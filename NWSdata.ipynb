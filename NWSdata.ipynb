{
 "cells": [
  {
   "cell_type": "markdown",
   "id": "c4104451-175b-4954-9684-c8dc5aaff704",
   "metadata": {},
   "source": [
    "Inspired by Eli the Computer Guy https://www.youtube.com/watch?v=gXN0tMGkZlY"
   ]
  },
  {
   "cell_type": "code",
   "execution_count": null,
   "id": "7be58df1-7466-42cc-bca1-c946b3ba576b",
   "metadata": {},
   "outputs": [],
   "source": [
    "import requests"
   ]
  },
  {
   "cell_type": "code",
   "execution_count": null,
   "id": "3ba32705-fd8b-4c08-91af-2dd7bb210259",
   "metadata": {},
   "outputs": [],
   "source": [
    "import json"
   ]
  },
  {
   "cell_type": "code",
   "execution_count": null,
   "id": "f39eb1d5-5561-4b74-8ef0-8e223d4c6976",
   "metadata": {},
   "outputs": [],
   "source": [
    "response = requests.get(r'https://api.weather.gov/points/29.5566,-98.5646').json()"
   ]
  },
  {
   "cell_type": "code",
   "execution_count": null,
   "id": "adcc74cf-41fb-41d9-884e-071c7aa6048e",
   "metadata": {},
   "outputs": [],
   "source": [
    "properties = response['properties']"
   ]
  },
  {
   "cell_type": "code",
   "execution_count": null,
   "id": "e646b2f2-b723-41bd-b7c1-3fe2fb94d692",
   "metadata": {},
   "outputs": [],
   "source": [
    "daily_response = requests.get(properties['forecast']).json()"
   ]
  },
  {
   "cell_type": "code",
   "execution_count": null,
   "id": "9148b4b3-fa52-47a0-acc8-b98242e6012b",
   "metadata": {},
   "outputs": [],
   "source": [
    "for x in range(len(daily_response['properties']['periods'])):\n",
    "    print(daily_response['properties']['periods'][x]['name'], ' - ', daily_response['properties']['periods'][x]['detailedForecast'])\n",
    "    print('-----------')"
   ]
  },
  {
   "cell_type": "code",
   "execution_count": null,
   "id": "0ee1b044-534a-437e-afc4-2e2c4c29ce22",
   "metadata": {},
   "outputs": [],
   "source": []
  }
 ],
 "metadata": {
  "kernelspec": {
   "display_name": "Python 3 (ipykernel)",
   "language": "python",
   "name": "python3"
  },
  "language_info": {
   "codemirror_mode": {
    "name": "ipython",
    "version": 3
   },
   "file_extension": ".py",
   "mimetype": "text/x-python",
   "name": "python",
   "nbconvert_exporter": "python",
   "pygments_lexer": "ipython3",
   "version": "3.12.3"
  }
 },
 "nbformat": 4,
 "nbformat_minor": 5
}
