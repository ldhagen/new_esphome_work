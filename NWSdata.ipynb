{
 "cells": [
  {
   "cell_type": "markdown",
   "id": "c4104451-175b-4954-9684-c8dc5aaff704",
   "metadata": {},
   "source": [
    "Inspired by Eli the Computer Guy https://www.youtube.com/watch?v=gXN0tMGkZlY"
   ]
  },
  {
   "cell_type": "code",
   "execution_count": null,
   "id": "7be58df1-7466-42cc-bca1-c946b3ba576b",
   "metadata": {},
   "outputs": [],
   "source": [
    "import requests"
   ]
  },
  {
   "cell_type": "code",
   "execution_count": null,
   "id": "3ba32705-fd8b-4c08-91af-2dd7bb210259",
   "metadata": {},
   "outputs": [],
   "source": [
    "import json"
   ]
  },
  {
   "cell_type": "code",
   "execution_count": null,
   "id": "f39eb1d5-5561-4b74-8ef0-8e223d4c6976",
   "metadata": {},
   "outputs": [],
   "source": [
    "response = requests.get(r'https://api.weather.gov/points/29.5566,-98.5646').json()"
   ]
  },
  {
   "cell_type": "code",
   "execution_count": null,
   "id": "c5c7d705-f001-497d-be35-e7b7af76ec06",
   "metadata": {},
   "outputs": [],
   "source": [
    "response_pretty = json.dumps(response, indent = 2)"
   ]
  },
  {
   "cell_type": "code",
   "execution_count": null,
   "id": "1fd63ee1-fed7-4b6e-a192-3a5fbc7c308f",
   "metadata": {
    "scrolled": true
   },
   "outputs": [],
   "source": [
    "print(response_pretty)"
   ]
  },
  {
   "cell_type": "code",
   "execution_count": null,
   "id": "83500556-198a-4547-bde6-700b6b8883b3",
   "metadata": {},
   "outputs": [],
   "source": [
    " properties = response['properties']"
   ]
  },
  {
   "cell_type": "code",
   "execution_count": null,
   "id": "818189f7-eedd-4397-87e5-41470fbc4079",
   "metadata": {},
   "outputs": [],
   "source": [
    "type(properties)"
   ]
  },
  {
   "cell_type": "code",
   "execution_count": null,
   "id": "63aefc24-4591-478c-b7ce-4bef109a7a58",
   "metadata": {},
   "outputs": [],
   "source": [
    "len(properties)"
   ]
  },
  {
   "cell_type": "code",
   "execution_count": null,
   "id": "083d919e-52b1-4cc4-8f97-b6bad57f7bb0",
   "metadata": {},
   "outputs": [],
   "source": [
    "properties['forecast']"
   ]
  },
  {
   "cell_type": "code",
   "execution_count": null,
   "id": "3df06995-b42d-4ff3-b411-1b1c95ac0e41",
   "metadata": {
    "scrolled": true
   },
   "outputs": [],
   "source": [
    "properties"
   ]
  },
  {
   "cell_type": "code",
   "execution_count": null,
   "id": "071c153c-5218-4440-82be-3cfc5fdb0f6c",
   "metadata": {},
   "outputs": [],
   "source": [
    "properties['forecastHourly']"
   ]
  },
  {
   "cell_type": "code",
   "execution_count": null,
   "id": "fa9da1a8-02ae-4680-aa3b-25120f3a89d9",
   "metadata": {},
   "outputs": [],
   "source": [
    "hourly_response = requests.get(properties['forecastHourly']).json()"
   ]
  },
  {
   "cell_type": "code",
   "execution_count": null,
   "id": "e67ed20c-5f46-4106-8a4d-f695d26fbe1a",
   "metadata": {},
   "outputs": [],
   "source": [
    "hourly_response['properties'].keys()"
   ]
  },
  {
   "cell_type": "code",
   "execution_count": null,
   "id": "ef90d347-2e2d-4b1b-80c9-1e88c1cad129",
   "metadata": {},
   "outputs": [],
   "source": [
    "type(hourly_response['properties']['periods'])"
   ]
  },
  {
   "cell_type": "code",
   "execution_count": null,
   "id": "324fa1fd-7703-45af-8925-634739cd5617",
   "metadata": {
    "scrolled": true
   },
   "outputs": [],
   "source": [
    "hourly_response['properties']['periods']"
   ]
  },
  {
   "cell_type": "code",
   "execution_count": null,
   "id": "fa12a75b-6c90-4b92-8b8f-993def4b90c8",
   "metadata": {},
   "outputs": [],
   "source": [
    "hourly_response['properties']['periods'][0]"
   ]
  },
  {
   "cell_type": "code",
   "execution_count": null,
   "id": "e646b2f2-b723-41bd-b7c1-3fe2fb94d692",
   "metadata": {},
   "outputs": [],
   "source": [
    "daily_response = requests.get(properties['forecast']).json()"
   ]
  },
  {
   "cell_type": "code",
   "execution_count": null,
   "id": "00787e5b-39d0-4f27-a519-c5db2fd305c3",
   "metadata": {},
   "outputs": [],
   "source": [
    "daily_response['properties']['periods'][0]"
   ]
  },
  {
   "cell_type": "code",
   "execution_count": null,
   "id": "64f76ab2-e46f-42ed-9d6a-3d00a9d8a7cf",
   "metadata": {},
   "outputs": [],
   "source": [
    "daily_response['properties']['periods'][1]"
   ]
  },
  {
   "cell_type": "code",
   "execution_count": null,
   "id": "7a70ffe2-7d5d-4409-96a2-f388715b7e02",
   "metadata": {},
   "outputs": [],
   "source": [
    "daily_response['properties']['periods'][2]"
   ]
  },
  {
   "cell_type": "code",
   "execution_count": null,
   "id": "0a78254d-3226-45ab-b81e-461fd30a2aa0",
   "metadata": {},
   "outputs": [],
   "source": [
    "daily_response['properties']['periods'][3]['name']"
   ]
  },
  {
   "cell_type": "code",
   "execution_count": null,
   "id": "27c5a946-f08e-4593-82d2-a8271d590b19",
   "metadata": {},
   "outputs": [],
   "source": [
    "print(daily_response['properties']['periods'][3]['name'], ' - ', daily_response['properties']['periods'][3]['temperature'])"
   ]
  },
  {
   "cell_type": "code",
   "execution_count": null,
   "id": "9148b4b3-fa52-47a0-acc8-b98242e6012b",
   "metadata": {},
   "outputs": [],
   "source": [
    "for x in range(len(daily_response['properties']['periods'])):\n",
    "    print(daily_response['properties']['periods'][x]['name'], ' - ', daily_response['properties']['periods'][x]['detailedForecast'])\n",
    "    print('-----------')"
   ]
  },
  {
   "cell_type": "code",
   "execution_count": null,
   "id": "2d882139-59a5-48c6-b4e7-781a94f15f9c",
   "metadata": {},
   "outputs": [],
   "source": []
  },
  {
   "cell_type": "code",
   "execution_count": null,
   "id": "0ee1b044-534a-437e-afc4-2e2c4c29ce22",
   "metadata": {},
   "outputs": [],
   "source": []
  }
 ],
 "metadata": {
  "kernelspec": {
   "display_name": "Python 3 (ipykernel)",
   "language": "python",
   "name": "python3"
  },
  "language_info": {
   "codemirror_mode": {
    "name": "ipython",
    "version": 3
   },
   "file_extension": ".py",
   "mimetype": "text/x-python",
   "name": "python",
   "nbconvert_exporter": "python",
   "pygments_lexer": "ipython3",
   "version": "3.10.12"
  }
 },
 "nbformat": 4,
 "nbformat_minor": 5
}
