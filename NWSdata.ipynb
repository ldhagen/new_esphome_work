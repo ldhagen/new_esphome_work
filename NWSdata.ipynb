{
 "cells": [
  {
   "cell_type": "markdown",
   "id": "c4104451-175b-4954-9684-c8dc5aaff704",
   "metadata": {},
   "source": [
    "Inspired by Eli the Computer Guy https://www.youtube.com/watch?v=gXN0tMGkZlY"
   ]
  },
  {
   "cell_type": "code",
   "execution_count": null,
   "id": "aca5ef7f-6d57-41e6-814a-f92c001187c6",
   "metadata": {},
   "outputs": [],
   "source": []
  },
  {
   "cell_type": "code",
   "execution_count": 8,
   "id": "7be58df1-7466-42cc-bca1-c946b3ba576b",
   "metadata": {},
   "outputs": [],
   "source": [
    "import requests"
   ]
  },
  {
   "cell_type": "code",
   "execution_count": 9,
   "id": "3ba32705-fd8b-4c08-91af-2dd7bb210259",
   "metadata": {},
   "outputs": [],
   "source": [
    "import json"
   ]
  },
  {
   "cell_type": "code",
   "execution_count": 38,
   "id": "f39eb1d5-5561-4b74-8ef0-8e223d4c6976",
   "metadata": {},
   "outputs": [],
   "source": [
    "response = requests.get(r'https://api.weather.gov/points/29.5566,-98.5646').json()"
   ]
  },
  {
   "cell_type": "code",
   "execution_count": 39,
   "id": "c5c7d705-f001-497d-be35-e7b7af76ec06",
   "metadata": {},
   "outputs": [],
   "source": [
    "response_pretty = json.dumps(response, indent = 2)"
   ]
  },
  {
   "cell_type": "code",
   "execution_count": 40,
   "id": "1fd63ee1-fed7-4b6e-a192-3a5fbc7c308f",
   "metadata": {},
   "outputs": [
    {
     "name": "stdout",
     "output_type": "stream",
     "text": [
      "{\n",
      "  \"@context\": [\n",
      "    \"https://geojson.org/geojson-ld/geojson-context.jsonld\",\n",
      "    {\n",
      "      \"@version\": \"1.1\",\n",
      "      \"wx\": \"https://api.weather.gov/ontology#\",\n",
      "      \"s\": \"https://schema.org/\",\n",
      "      \"geo\": \"http://www.opengis.net/ont/geosparql#\",\n",
      "      \"unit\": \"http://codes.wmo.int/common/unit/\",\n",
      "      \"@vocab\": \"https://api.weather.gov/ontology#\",\n",
      "      \"geometry\": {\n",
      "        \"@id\": \"s:GeoCoordinates\",\n",
      "        \"@type\": \"geo:wktLiteral\"\n",
      "      },\n",
      "      \"city\": \"s:addressLocality\",\n",
      "      \"state\": \"s:addressRegion\",\n",
      "      \"distance\": {\n",
      "        \"@id\": \"s:Distance\",\n",
      "        \"@type\": \"s:QuantitativeValue\"\n",
      "      },\n",
      "      \"bearing\": {\n",
      "        \"@type\": \"s:QuantitativeValue\"\n",
      "      },\n",
      "      \"value\": {\n",
      "        \"@id\": \"s:value\"\n",
      "      },\n",
      "      \"unitCode\": {\n",
      "        \"@id\": \"s:unitCode\",\n",
      "        \"@type\": \"@id\"\n",
      "      },\n",
      "      \"forecastOffice\": {\n",
      "        \"@type\": \"@id\"\n",
      "      },\n",
      "      \"forecastGridData\": {\n",
      "        \"@type\": \"@id\"\n",
      "      },\n",
      "      \"publicZone\": {\n",
      "        \"@type\": \"@id\"\n",
      "      },\n",
      "      \"county\": {\n",
      "        \"@type\": \"@id\"\n",
      "      }\n",
      "    }\n",
      "  ],\n",
      "  \"id\": \"https://api.weather.gov/points/29.5566,-98.5646\",\n",
      "  \"type\": \"Feature\",\n",
      "  \"geometry\": {\n",
      "    \"type\": \"Point\",\n",
      "    \"coordinates\": [\n",
      "      -98.5646,\n",
      "      29.5566\n",
      "    ]\n",
      "  },\n",
      "  \"properties\": {\n",
      "    \"@id\": \"https://api.weather.gov/points/29.5566,-98.5646\",\n",
      "    \"@type\": \"wx:Point\",\n",
      "    \"cwa\": \"EWX\",\n",
      "    \"forecastOffice\": \"https://api.weather.gov/offices/EWX\",\n",
      "    \"gridId\": \"EWX\",\n",
      "    \"gridX\": 124,\n",
      "    \"gridY\": 60,\n",
      "    \"forecast\": \"https://api.weather.gov/gridpoints/EWX/124,60/forecast\",\n",
      "    \"forecastHourly\": \"https://api.weather.gov/gridpoints/EWX/124,60/forecast/hourly\",\n",
      "    \"forecastGridData\": \"https://api.weather.gov/gridpoints/EWX/124,60\",\n",
      "    \"observationStations\": \"https://api.weather.gov/gridpoints/EWX/124,60/stations\",\n",
      "    \"relativeLocation\": {\n",
      "      \"type\": \"Feature\",\n",
      "      \"geometry\": {\n",
      "        \"type\": \"Point\",\n",
      "        \"coordinates\": [\n",
      "          -98.556179,\n",
      "          29.584448\n",
      "        ]\n",
      "      },\n",
      "      \"properties\": {\n",
      "        \"city\": \"Shavano Park\",\n",
      "        \"state\": \"TX\",\n",
      "        \"distance\": {\n",
      "          \"unitCode\": \"wmoUnit:m\",\n",
      "          \"value\": 3201.8669413895\n",
      "        },\n",
      "        \"bearing\": {\n",
      "          \"unitCode\": \"wmoUnit:degree_(angle)\",\n",
      "          \"value\": 194\n",
      "        }\n",
      "      }\n",
      "    },\n",
      "    \"forecastZone\": \"https://api.weather.gov/zones/forecast/TXZ205\",\n",
      "    \"county\": \"https://api.weather.gov/zones/county/TXC029\",\n",
      "    \"fireWeatherZone\": \"https://api.weather.gov/zones/fire/TXZ205\",\n",
      "    \"timeZone\": \"America/Chicago\",\n",
      "    \"radarStation\": \"KEWX\"\n",
      "  }\n",
      "}\n"
     ]
    }
   ],
   "source": [
    "print(response_pretty)"
   ]
  },
  {
   "cell_type": "code",
   "execution_count": null,
   "id": "83500556-198a-4547-bde6-700b6b8883b3",
   "metadata": {},
   "outputs": [],
   "source": []
  }
 ],
 "metadata": {
  "kernelspec": {
   "display_name": "Python 3 (ipykernel)",
   "language": "python",
   "name": "python3"
  },
  "language_info": {
   "codemirror_mode": {
    "name": "ipython",
    "version": 3
   },
   "file_extension": ".py",
   "mimetype": "text/x-python",
   "name": "python",
   "nbconvert_exporter": "python",
   "pygments_lexer": "ipython3",
   "version": "3.10.12"
  }
 },
 "nbformat": 4,
 "nbformat_minor": 5
}
